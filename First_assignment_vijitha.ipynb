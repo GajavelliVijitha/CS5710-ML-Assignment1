{
  "cells": [
    {
      "cell_type": "markdown",
      "id": "560eac75",
      "metadata": {
        "id": "560eac75"
      },
      "source": [
        "## QUESTION 1"
      ]
    },
    {
      "cell_type": "code",
      "execution_count": 1,
      "id": "604d536d",
      "metadata": {
        "ExecuteTime": {
          "end_time": "2023-01-21T22:51:47.030483Z",
          "start_time": "2023-01-21T22:51:47.016327Z"
        },
        "colab": {
          "base_uri": "https://localhost:8080/"
        },
        "id": "604d536d",
        "outputId": "7daed21d-ce0a-4e92-dc94-b740c016983e"
      },
      "outputs": [
        {
          "output_type": "stream",
          "name": "stdout",
          "text": [
            "Ages : [19, 19, 20, 22, 24, 24, 24, 25, 25, 26]\n"
          ]
        }
      ],
      "source": [
        "ages = [19, 22, 19, 24, 20, 25, 26, 24, 25, 24]\n",
        "#Sort the list and find the min and max age\n",
        "for i in range(len(ages)):\n",
        "    for j in range(len(ages)-1):\n",
        "        if ages[j] > ages[j+1]:\n",
        "            ages[j], ages[j+1] = ages[j+1], ages[j]\n",
        "print(\"Ages :\",ages)"
      ]
    },
    {
      "cell_type": "code",
      "execution_count": 3,
      "id": "ec82db1e",
      "metadata": {
        "ExecuteTime": {
          "end_time": "2023-01-21T22:51:47.769573Z",
          "start_time": "2023-01-21T22:51:47.758756Z"
        },
        "id": "ec82db1e"
      },
      "outputs": [],
      "source": [
        "min_age = ages[0]\n",
        "max_age = ages[0]\n",
        "for i in range(len(ages)):\n",
        "    if ages[i] < min_age:\n",
        "        min_age = ages[i]\n",
        "    elif ages[i] > max_age:\n",
        "        max_age = ages[i]"
      ]
    },
    {
      "cell_type": "code",
      "execution_count": 4,
      "id": "93c16191",
      "metadata": {
        "ExecuteTime": {
          "end_time": "2023-01-21T22:49:33.536420Z",
          "start_time": "2023-01-21T22:49:33.527017Z"
        },
        "colab": {
          "base_uri": "https://localhost:8080/"
        },
        "id": "93c16191",
        "outputId": "74d56972-bd4c-4c9b-e22c-75226759226a"
      },
      "outputs": [
        {
          "output_type": "stream",
          "name": "stdout",
          "text": [
            "Minimum age:  19\n",
            "Maximum age:  26\n"
          ]
        }
      ],
      "source": [
        "print(\"Minimum age: \", min_age)\n",
        "print(\"Maximum age: \", max_age)"
      ]
    },
    {
      "cell_type": "code",
      "execution_count": 5,
      "id": "7bf46291",
      "metadata": {
        "ExecuteTime": {
          "end_time": "2023-01-21T22:52:34.503666Z",
          "start_time": "2023-01-21T22:52:34.492734Z"
        },
        "colab": {
          "base_uri": "https://localhost:8080/"
        },
        "id": "7bf46291",
        "outputId": "52b248ee-3d2b-440e-b6a3-f66a8c5293c2"
      },
      "outputs": [
        {
          "output_type": "stream",
          "name": "stdout",
          "text": [
            "[19, 19, 20, 22, 24, 24, 24, 25, 25, 26, 19, 26]\n"
          ]
        }
      ],
      "source": [
        "#Add the min age and the max age again to the list\n",
        "ages.append(min_age)\n",
        "ages.append(max_age)\n",
        "print(ages)"
      ]
    },
    {
      "cell_type": "code",
      "execution_count": 6,
      "id": "f32e1009",
      "metadata": {
        "ExecuteTime": {
          "end_time": "2023-01-21T22:52:58.276415Z",
          "start_time": "2023-01-21T22:52:58.264039Z"
        },
        "colab": {
          "base_uri": "https://localhost:8080/"
        },
        "id": "f32e1009",
        "outputId": "b4119c42-5288-4200-d0cc-f4fbfe326dd9"
      },
      "outputs": [
        {
          "output_type": "stream",
          "name": "stdout",
          "text": [
            "Median age:  24.0\n"
          ]
        }
      ],
      "source": [
        "#Find the median age (one middle item or two middle items divided by two)\n",
        "ages = [19, 22, 19, 24, 20, 25, 26, 24, 25, 24]\n",
        "ages.sort()\n",
        "if len(ages) % 2 == 0:\n",
        "    median = (ages[len(ages) // 2] + ages[len(ages) // 2 - 1]) / 2\n",
        "else:\n",
        "    median = ages[len(ages) // 2]\n",
        "print(\"Median age: \", median)"
      ]
    },
    {
      "cell_type": "code",
      "execution_count": 7,
      "id": "154bfb7a",
      "metadata": {
        "ExecuteTime": {
          "end_time": "2023-01-21T22:53:23.667473Z",
          "start_time": "2023-01-21T22:53:23.657644Z"
        },
        "colab": {
          "base_uri": "https://localhost:8080/"
        },
        "id": "154bfb7a",
        "outputId": "9528bf8d-6fec-4712-a330-640eaaecf341"
      },
      "outputs": [
        {
          "output_type": "stream",
          "name": "stdout",
          "text": [
            "Average age:  22.8\n"
          ]
        }
      ],
      "source": [
        "#Find the average age (sum of all items divided by their number)\n",
        "ages = [19, 22, 19, 24, 20, 25, 26, 24, 25, 24]\n",
        "sum_ages = sum(ages)\n",
        "average_age = sum_ages / len(ages)\n",
        "print(\"Average age: \", average_age)\n"
      ]
    },
    {
      "cell_type": "code",
      "execution_count": 8,
      "id": "f5061973",
      "metadata": {
        "ExecuteTime": {
          "end_time": "2023-01-21T22:54:23.759519Z",
          "start_time": "2023-01-21T22:54:23.746302Z"
        },
        "colab": {
          "base_uri": "https://localhost:8080/"
        },
        "id": "f5061973",
        "outputId": "c645c51a-d14a-4fd7-da87-af28ec519c23"
      },
      "outputs": [
        {
          "output_type": "stream",
          "name": "stdout",
          "text": [
            "Range of ages:  7\n"
          ]
        }
      ],
      "source": [
        "#Find the range of the ages (max minus min)\n",
        "ages = [19, 22, 19, 24, 20, 25, 26, 24, 25, 24]\n",
        "min_age = min(ages)\n",
        "max_age = max(ages)\n",
        "range_age = max_age - min_age\n",
        "print(\"Range of ages: \", range_age)"
      ]
    },
    {
      "cell_type": "markdown",
      "id": "60dd3444",
      "metadata": {
        "id": "60dd3444"
      },
      "source": [
        "## Question 2"
      ]
    },
    {
      "cell_type": "code",
      "execution_count": 9,
      "id": "30b2a05c",
      "metadata": {
        "ExecuteTime": {
          "end_time": "2023-01-22T03:07:43.538216Z",
          "start_time": "2023-01-22T03:07:43.513139Z"
        },
        "colab": {
          "base_uri": "https://localhost:8080/"
        },
        "id": "30b2a05c",
        "outputId": "c1f6d547-35dd-4756-df48-13e2e9020cf2"
      },
      "outputs": [
        {
          "output_type": "stream",
          "name": "stdout",
          "text": [
            "9\n",
            "<class 'list'>\n",
            "['first_name', 'last_name', 'gender', 'age', 'marital_status', 'skills', 'country', 'city', 'address']\n",
            "['vijitha', 'gajavelli', 'female', '26', 'single', ['machinelearning', 'datascience'], 'India', 'Hyderabad', 'Suryapet']\n"
          ]
        }
      ],
      "source": [
        "#Create an empty dictionary called dog\n",
        "dog = {}\n",
        "#Add name, color, breed, legs, age to the dog dictionary\n",
        "dog[\"name\"] = \"JHONNY\"\n",
        "dog[\"color\"] = \"BROWN\"\n",
        "dog[\"breed\"] = \"GERMAN_SHEPPERD\"\n",
        "dog[\"legs\"] = \"FOUR\"\n",
        "dog[\"age\"] = \"8\"\n",
        "#Create a student dictionary and add first_name, last_name, gender, age, marital status,\n",
        "#skills, country, city and address as keys for the dictionary\n",
        "student = {}\n",
        "student[\"first_name\"] = \"vijitha\"\n",
        "student[\"last_name\"] = \"gajavelli\"\n",
        "student[\"gender\"] = \"female\"\n",
        "student[\"age\"] = \"26\"\n",
        "student[\"marital_status\"] = \"single\"\n",
        "student[\"skills\"] = []\n",
        "student[\"country\"] = \"India\"\n",
        "student[\"city\"] = \"Hyderabad\"\n",
        "student[\"address\"] = \"Suryapet\"\n",
        "#Get the length of the student dictionary\n",
        "print(len(student))\n",
        "#Get the value of skills and check the data type, it should be a list\n",
        "print(type(student[\"skills\"]))\n",
        "#Modify the skills values by adding one or two skills\n",
        "student[\"skills\"].append(\"machinelearning\")\n",
        "student[\"skills\"].append(\"datascience\")\n",
        "#Get the dictionary keys as a list\n",
        "print(list(student.keys()))\n",
        "#Get the dictionary values as a list\n",
        "print(list(student.values()))\n"
      ]
    },
    {
      "cell_type": "markdown",
      "id": "fdc22dc8",
      "metadata": {
        "id": "fdc22dc8"
      },
      "source": [
        "## Question 3:\n"
      ]
    },
    {
      "cell_type": "code",
      "execution_count": 10,
      "id": "bcb34a02",
      "metadata": {
        "ExecuteTime": {
          "end_time": "2023-01-21T22:56:21.740175Z",
          "start_time": "2023-01-21T22:56:21.730548Z"
        },
        "colab": {
          "base_uri": "https://localhost:8080/"
        },
        "id": "bcb34a02",
        "outputId": "d0418e44-4823-45cf-cd6f-7d688b1e1521"
      },
      "outputs": [
        {
          "output_type": "stream",
          "name": "stdout",
          "text": [
            "I have 6 siblings.\n",
            "My family members are: ('poojitha', 'sathwika', 'Sindhu', 'Ram', 'Munna', 'Bharghav', 'Venkateshwarlu', 'Vanaja')\n"
          ]
        }
      ],
      "source": [
        "#Create a tuple containing names of your sisters and your brothers (imaginary siblings are fine)\n",
        "sisters = (\"poojitha\", \"sathwika\", \"Sindhu\")\n",
        "brothers = (\"Ram\", \"Munna\", \"Bharghav\")\n",
        "#Join brothers and sisters tuples and assign it to siblings\n",
        "siblings = sisters + brothers\n",
        "#How many siblings do you have?\n",
        "print(\"I have\", len(siblings), \"siblings.\")\n",
        "#Modify the siblings tuple and add the name of your father and mother and assign it to family_members\n",
        "family_members = siblings + (\"Venkateshwarlu\", \"Vanaja\")\n",
        "print(\"My family members are:\", family_members)"
      ]
    },
    {
      "cell_type": "markdown",
      "id": "c22ea4c7",
      "metadata": {
        "id": "c22ea4c7"
      },
      "source": [
        "## Question 4:"
      ]
    },
    {
      "cell_type": "code",
      "execution_count": 11,
      "id": "8cabcaa0",
      "metadata": {
        "ExecuteTime": {
          "end_time": "2023-01-21T22:56:56.091454Z",
          "start_time": "2023-01-21T22:56:56.072631Z"
        },
        "colab": {
          "base_uri": "https://localhost:8080/"
        },
        "id": "8cabcaa0",
        "outputId": "01d6b4ed-8b65-4c49-d388-c7017a4f2503"
      },
      "outputs": [
        {
          "output_type": "stream",
          "name": "stdout",
          "text": [
            "7\n",
            "{19, 20, 22, 24, 25, 26, 27, 28}\n",
            "{19, 20, 22, 24, 25, 26}\n",
            "True\n",
            "False\n",
            "Joining A with B :  {19, 20, 22, 24, 25, 26, 27, 28}\n",
            "Joining B with A :  {19, 20, 22, 24, 25, 26, 27, 28}\n",
            "symmetric_difference :  {27, 28}\n",
            "8\n",
            "5\n"
          ]
        }
      ],
      "source": [
        "it_companies = {'Facebook', 'Google', 'Microsoft', 'Apple', 'IBM', 'Oracle', 'Amazon'} \n",
        "A = {19, 22, 24, 20, 25, 26}\n",
        "B = {19, 22, 20, 25, 26, 24, 28, 27}\n",
        "age = [22, 19, 24, 25, 26, 24, 25, 24]\n",
        "\n",
        "# Find the length of the set it_companies\n",
        "print(len(it_companies))\n",
        "\n",
        "# Add 'Twitter' to it_companies\n",
        "it_companies.add(\"Twitter\")\n",
        "\n",
        "# Insert multiple IT companies at once to the set it_companies\n",
        "it_companies.update([\"Tesla\", \"Spotify\", \"Uber\"])\n",
        "\n",
        "# Remove one of the companies from the set it_companies\n",
        "it_companies.remove(\"IBM\")\n",
        "\n",
        "# What is the difference between remove and discard\n",
        "# remove() raises an error if the element is not found in the set, \n",
        "# while discard() does not raise an error if the element is not found in the set.\n",
        "\n",
        "# Join A and B\n",
        "print(A.union(B))\n",
        "\n",
        "# Find A intersection B\n",
        "print(A.intersection(B))\n",
        "\n",
        "# Is A subset of B\n",
        "print(A.issubset(B))\n",
        "\n",
        "# Are A and B disjoint sets\n",
        "print(A.isdisjoint(B))\n",
        "\n",
        "# Join A with B and B with A\n",
        "print(\"Joining A with B : \",A.union(B))\n",
        "print(\"Joining B with A : \",B.union(A))\n",
        "\n",
        "# What is the symmetric difference between A and B\n",
        "print(\"symmetric_difference : \",A.symmetric_difference(B))\n",
        "\n",
        "# Delete the sets completely\n",
        "del it_companies\n",
        "del A\n",
        "del B\n",
        "\n",
        "# Convert the ages to a set and compare the length of the list and the set.\n",
        "ages_set = set(age)\n",
        "print(len(age))\n",
        "print(len(ages_set))\n"
      ]
    },
    {
      "cell_type": "markdown",
      "id": "4b951b86",
      "metadata": {
        "id": "4b951b86"
      },
      "source": [
        "## QUESTION 5"
      ]
    },
    {
      "cell_type": "code",
      "execution_count": 12,
      "id": "04232c7b",
      "metadata": {
        "ExecuteTime": {
          "end_time": "2023-01-21T22:57:28.991457Z",
          "start_time": "2023-01-21T22:57:24.738834Z"
        },
        "colab": {
          "base_uri": "https://localhost:8080/"
        },
        "id": "04232c7b",
        "outputId": "8c0bc704-a851-4d4f-f468-2d7abb6e0558"
      },
      "outputs": [
        {
          "output_type": "stream",
          "name": "stdout",
          "text": [
            "Area of circle is: 2827.4333882308138\n",
            "Circumference of circle is: 188.49555921538757\n",
            "Enter the radius of the circle: 40\n",
            "Area of circle is: 5026.548245743669\n"
          ]
        }
      ],
      "source": [
        "import math\n",
        "\n",
        "# The radius of a circle is 30 meters.\n",
        "radius = 30\n",
        "\n",
        "# Calculate the area of a circle and assign the value to a variable name of _area_of_circle_\n",
        "area_of_circle = math.pi * radius ** 2\n",
        "print(\"Area of circle is:\", area_of_circle)\n",
        "\n",
        "# Calculate the circumference of a circle and assign the value to a variable name of _circum_of_circle_\n",
        "circum_of_circle = 2 * math.pi * radius\n",
        "print(\"Circumference of circle is:\", circum_of_circle)\n",
        "\n",
        "# Take radius as user input and calculate the area.\n",
        "radius = float(input(\"Enter the radius of the circle: \"))\n",
        "area_of_circle = math.pi * radius ** 2\n",
        "print(\"Area of circle is:\", area_of_circle)\n"
      ]
    },
    {
      "cell_type": "markdown",
      "id": "d9b7875d",
      "metadata": {
        "id": "d9b7875d"
      },
      "source": [
        "## QUESTION 6"
      ]
    },
    {
      "cell_type": "code",
      "execution_count": 13,
      "id": "440bfd13",
      "metadata": {
        "ExecuteTime": {
          "end_time": "2023-01-21T22:58:05.153514Z",
          "start_time": "2023-01-21T22:58:05.143026Z"
        },
        "colab": {
          "base_uri": "https://localhost:8080/"
        },
        "id": "440bfd13",
        "outputId": "4db00cd3-a861-4eca-f0b7-5e77fdfaaf33"
      },
      "outputs": [
        {
          "output_type": "stream",
          "name": "stdout",
          "text": [
            "unique words: 10\n"
          ]
        }
      ],
      "source": [
        "sentence = \"I am a teacher and I love to inspire and teach people\"\n",
        "\n",
        "# Using the split() method to get a list of words\n",
        "words = sentence.split()\n",
        "\n",
        "# Using set() to get the unique words\n",
        "unique_words = set(words)\n",
        "\n",
        "# Finding the length of the set of unique words\n",
        "print(\"unique words:\", len(unique_words))"
      ]
    },
    {
      "cell_type": "markdown",
      "id": "adbbee3e",
      "metadata": {
        "id": "adbbee3e"
      },
      "source": [
        "## QUESTION 7"
      ]
    },
    {
      "cell_type": "code",
      "execution_count": 14,
      "id": "b2592370",
      "metadata": {
        "ExecuteTime": {
          "end_time": "2023-01-22T03:01:21.168292Z",
          "start_time": "2023-01-22T03:01:21.162128Z"
        },
        "colab": {
          "base_uri": "https://localhost:8080/"
        },
        "id": "b2592370",
        "outputId": "83516c58-0562-4574-fe64-d2ce10c33370"
      },
      "outputs": [
        {
          "output_type": "stream",
          "name": "stdout",
          "text": [
            "Name\tAge\tCountry\tCity\n",
            "Asabeneh\t250\tFinland\tHelsinki\n"
          ]
        }
      ],
      "source": [
        "\n",
        "print(\"Name\\tAge\\tCountry\\tCity\\nAsabeneh\\t250\\tFinland\\tHelsinki\")\n"
      ]
    },
    {
      "cell_type": "markdown",
      "id": "fd83f5de",
      "metadata": {
        "id": "fd83f5de"
      },
      "source": [
        "## QUESTION 8"
      ]
    },
    {
      "cell_type": "code",
      "execution_count": 15,
      "id": "562e86dc",
      "metadata": {
        "ExecuteTime": {
          "end_time": "2023-01-21T23:00:15.809593Z",
          "start_time": "2023-01-21T23:00:15.799514Z"
        },
        "colab": {
          "base_uri": "https://localhost:8080/"
        },
        "id": "562e86dc",
        "outputId": "2850ab8c-67c6-4bb2-c629-e31fa4ada6c7"
      },
      "outputs": [
        {
          "output_type": "stream",
          "name": "stdout",
          "text": [
            "The area of a circle with radius 10 is 314.0 meters square.\n"
          ]
        }
      ],
      "source": [
        "radius = 10\n",
        "area = 3.14 * radius ** 2\n",
        "print(f\"The area of a circle with radius {radius} is {area} meters square.\")\n"
      ]
    },
    {
      "cell_type": "markdown",
      "id": "d2d9bb6a",
      "metadata": {
        "ExecuteTime": {
          "end_time": "2023-01-21T23:00:30.860695Z",
          "start_time": "2023-01-21T23:00:30.852456Z"
        },
        "id": "d2d9bb6a"
      },
      "source": [
        "## QUESTION 9"
      ]
    },
    {
      "cell_type": "code",
      "execution_count": 17,
      "id": "bcc5fb7f",
      "metadata": {
        "ExecuteTime": {
          "end_time": "2023-01-21T23:00:44.878204Z",
          "start_time": "2023-01-21T23:00:35.899398Z"
        },
        "colab": {
          "base_uri": "https://localhost:8080/"
        },
        "id": "bcc5fb7f",
        "outputId": "866f09bb-cfce-4ecc-9acb-b43c6cba48a5"
      },
      "outputs": [
        {
          "output_type": "stream",
          "name": "stdout",
          "text": [
            "Enter the number of students: 3\n",
            "Enter the weight of student 1 in pounds: 110\n",
            "Enter the weight of student 2 in pounds: 120\n",
            "Enter the weight of student 3 in pounds: 130\n",
            "Weights in pounds: [110.0, 120.0, 130.0]\n",
            "Weights in kilograms: [49.89512, 54.431039999999996, 58.96696]\n"
          ]
        }
      ],
      "source": [
        "# Read input from user\n",
        "n = int(input(\"Enter the number of students: \"))\n",
        "\n",
        "# Create an empty list to store the weights in pounds\n",
        "weights_lbs = []\n",
        "\n",
        "# Get the weights of students in pounds\n",
        "for i in range(n):\n",
        "    weight = float(input(\"Enter the weight of student {} in pounds: \".format(i+1)))\n",
        "    weights_lbs.append(weight)\n",
        "\n",
        "# Create an empty list to store the weights in kilograms\n",
        "weights_kg = []\n",
        "\n",
        "# Convert the weights from pounds to kilograms\n",
        "for weight in weights_lbs:\n",
        "    weight_kg = weight * 0.453592\n",
        "    weights_kg.append(weight_kg)\n",
        "\n",
        "print(\"Weights in pounds:\", weights_lbs)\n",
        "print(\"Weights in kilograms:\", weights_kg)\n"
      ]
    },
    {
      "cell_type": "code",
      "execution_count": null,
      "id": "f90f3ea6",
      "metadata": {
        "id": "f90f3ea6"
      },
      "outputs": [],
      "source": []
    }
  ],
  "metadata": {
    "kernelspec": {
      "display_name": "Python 3 (ipykernel)",
      "language": "python",
      "name": "python3"
    },
    "language_info": {
      "codemirror_mode": {
        "name": "ipython",
        "version": 3
      },
      "file_extension": ".py",
      "mimetype": "text/x-python",
      "name": "python",
      "nbconvert_exporter": "python",
      "pygments_lexer": "ipython3",
      "version": "3.9.12"
    },
    "toc": {
      "base_numbering": 1,
      "nav_menu": {},
      "number_sections": true,
      "sideBar": true,
      "skip_h1_title": false,
      "title_cell": "Table of Contents",
      "title_sidebar": "Contents",
      "toc_cell": false,
      "toc_position": {},
      "toc_section_display": true,
      "toc_window_display": false
    },
    "colab": {
      "provenance": []
    }
  },
  "nbformat": 4,
  "nbformat_minor": 5
}